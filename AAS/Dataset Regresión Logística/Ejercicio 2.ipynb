{
 "cells": [
  {
   "cell_type": "code",
   "execution_count": null,
   "id": "a9f09135-e7c2-4ffc-971a-c8aae7d31268",
   "metadata": {},
   "outputs": [],
   "source": []
  }
 ],
 "metadata": {
  "kernelspec": {
   "display_name": "Python 3 (ipykernel)",
   "language": "python",
   "name": "python3"
  },
  "language_info": {
   "name": ""
  }
 },
 "nbformat": 4,
 "nbformat_minor": 5
}
